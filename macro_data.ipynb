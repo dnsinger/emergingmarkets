{
 "cells": [
  {
   "cell_type": "code",
   "execution_count": 1,
   "metadata": {},
   "outputs": [],
   "source": [
    "#import dependencies \n",
    "\n",
    "import pandas as pd \n",
    "import numpy as np \n",
    "import datetime as dt \n",
    "from pathlib import Path \n",
    "%matplotlib inline"
   ]
  },
  {
   "cell_type": "code",
   "execution_count": null,
   "metadata": {},
   "outputs": [],
   "source": [
    "#file paths \n",
    "\n",
    "coffee_futures = Path('resources/coffee_c_futures.csv')\n",
    "fx_allcountries = Path('resources/fx_5countries.csv')\n",
    "irates_brazil = Path('resources/irates_brazil.csv')\n",
    "irates_colombia = Path('resources/irates_colombia.csv')\n",
    "irates_ethiopia = Path('resources/irates_ethiopia.csv')\n",
    "irates_honduras = Path('resources/irates_honduras.csv')\n",
    "irates_uganda = Path('resources/irates_uganda.csv')\n",
    "\n",
    "#reading files \n",
    "\n",
    "coffee_futures_data = pd.read_csv(coffee_futures, parse_dates=True, infer_datetimeformat=True, index_col='Date')\n",
    "fx_data = pd.read_csv(fx_allcountries, parse_dates_True, infer_datetimeformat=True, index_col='')\n",
    "irates_brazil_data = pd.read_csv(fx_allcountries, parse_dates_True, infer_datetimeformat=True, index_col='')\n",
    "irates_colombia_data = pd.read_csv(fx_allcountries, parse_dates_True, infer_datetimeformat=True, index_col='')\n",
    "irates_ethiopia_data = pd.read_csv(fx_allcountries, parse_dates_True, infer_datetimeformat=True, index_col='')\n",
    "irates_honduras_data = pd.read_csv(fx_allcountries, parse_dates_True, infer_datetimeformat=True, index_col='')\n",
    "irates_uganda_data = pd.read_csv(fx_allcountries, parse_dates_True, infer_datetimeformat=True, index_col='')"
   ]
  }
 ],
 "metadata": {
  "kernelspec": {
   "display_name": "Python [conda env:pyvizenvpython=3.7]",
   "language": "python",
   "name": "conda-env-pyvizenvpython_3.7-py"
  },
  "language_info": {
   "codemirror_mode": {
    "name": "ipython",
    "version": 3
   },
   "file_extension": ".py",
   "mimetype": "text/x-python",
   "name": "python",
   "nbconvert_exporter": "python",
   "pygments_lexer": "ipython3",
   "version": "3.8.3"
  }
 },
 "nbformat": 4,
 "nbformat_minor": 4
}
